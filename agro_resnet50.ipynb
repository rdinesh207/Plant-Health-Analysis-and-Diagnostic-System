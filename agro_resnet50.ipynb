{
 "cells": [
  {
   "cell_type": "code",
   "execution_count": null,
   "metadata": {
    "id": "f71xABSvuDgM"
   },
   "outputs": [],
   "source": [
    "import torch\n",
    "import torchvision.models as models\n",
    "import torch.nn as nn\n",
    "from PIL import Image\n",
    "import numpy as np"
   ]
  },
  {
   "cell_type": "code",
   "execution_count": null,
   "metadata": {
    "id": "qJRU2zyjvt-8"
   },
   "outputs": [],
   "source": [
    "model = models.resnet50()\n",
    "model.fc = nn.Linear(in_features=2048, out_features=13)\n",
    "model.load_state_dict(torch.load('/content/resnet50.pth', map_location=torch.device('cpu')))\n",
    "classes = [\"List of all 13 path classes\"]"
   ]
  },
  {
   "cell_type": "code",
   "execution_count": null,
   "metadata": {
    "id": "LYbWND30wufm"
   },
   "outputs": [],
   "source": [
    "def image_transform(image_path):\n",
    "    image = Image.open(image_path).convert('RGB')  # Assuming RGB images\n",
    "    image = image.resize((224, 224))  # Resize to specific dimension (adjust as needed)\n",
    "    image = torch.from_numpy(np.array(image) / 255.0).permute(2, 0, 1).float().reshape(1,3,224,224)  # Convert to tensor and normalize\n",
    "    return image"
   ]
  },
  {
   "cell_type": "code",
   "execution_count": null,
   "metadata": {
    "colab": {
     "base_uri": "https://localhost:8080/"
    },
    "id": "PklAj5ySxl-_",
    "outputId": "68f43763-32e6-4cda-8dc3-27eedf56bcb1"
   },
   "outputs": [],
   "source": [
    "image_path = \"Path to sample image\"\n",
    "images = image_transform(image_path)\n",
    "images = torch.rand(1, 3, 224, 224)\n",
    "outputs = model(images)\n",
    "_, predicted = torch.max(outputs.data, 1)\n",
    "predicted"
   ]
  },
  {
   "cell_type": "code",
   "execution_count": null,
   "metadata": {
    "colab": {
     "base_uri": "https://localhost:8080/",
     "height": 36
    },
    "id": "ZwRHxiOD4pXt",
    "outputId": "c18eb99c-aa39-4816-ef9e-2f32833a6c6e"
   },
   "outputs": [],
   "source": [
    "classes[np.argmax(outputs.detach().numpy())]"
   ]
  },
  {
   "cell_type": "code",
   "execution_count": null,
   "metadata": {
    "colab": {
     "base_uri": "https://localhost:8080/"
    },
    "id": "YuE8aHRi34Qc",
    "outputId": "30e10a5a-c9c8-4e6d-d4a9-e7e651a013fe"
   },
   "outputs": [],
   "source": [
    "!pip install torch torchvision onnx onnx-tf"
   ]
  },
  {
   "cell_type": "code",
   "execution_count": null,
   "metadata": {
    "colab": {
     "base_uri": "https://localhost:8080/"
    },
    "id": "7F7tMfRNwj3Y",
    "outputId": "34324db4-68e0-43a8-ea98-b4b677cf52b0"
   },
   "outputs": [],
   "source": [
    "import onnx\n",
    "import onnx_tf\n",
    "from onnx_tf.backend import prepare\n",
    "import tensorflow as tf\n",
    "from tensorflow.python.platform import gfile\n",
    "from tensorflow.python.framework import graph_io"
   ]
  },
  {
   "cell_type": "code",
   "execution_count": null,
   "metadata": {
    "colab": {
     "base_uri": "https://localhost:8080/"
    },
    "id": "J3FkCDHXwpSh",
    "outputId": "02a34b04-00d9-4ec6-f5b8-41acb489eb56"
   },
   "outputs": [],
   "source": [
    "dummy_input = images  # Example input tensor\n",
    "torch.onnx.export(model, dummy_input, \"resnet.onnx\", input_names=[\"input\"], output_names=[\"output\"])\n",
    "onnx_model = onnx.load(\"path/resnet.onnx\")\n",
    "tf_model_path = 'resnet50.pb'\n",
    "tf_rep = onnx_tf.backend.prepare(onnx_model)\n",
    "tf_rep.export_graph(tf_model_path)"
   ]
  },
  {
   "cell_type": "code",
   "execution_count": null,
   "metadata": {
    "colab": {
     "base_uri": "https://localhost:8080/"
    },
    "id": "jLMlffJL8M9h",
    "outputId": "40f1dfe9-8ad2-4605-a0a9-bdf94433d361"
   },
   "outputs": [],
   "source": [
    "# Convert the TensorFlow model to TensorFlow Lite format\n",
    "converter = tf.compat.v1.lite.TFLiteConverter.from_saved_model(tf_model_path)\n",
    "# converter.experimental_new_converter = False\n",
    "tflite_model = converter.convert()\n",
    "\n",
    "# Save the TensorFlow Lite model to a file\n",
    "with open('resnet50.tflite', 'wb') as f:\n",
    "    f.write(tflite_model)"
   ]
  },
  {
   "cell_type": "code",
   "execution_count": null,
   "metadata": {
    "id": "DMmUBJ8ZQB8u"
   },
   "outputs": [],
   "source": [
    "!export CUDA_VISIBLE_DEVICES=\"\""
   ]
  },
  {
   "cell_type": "code",
   "execution_count": null,
   "metadata": {
    "id": "xQ6bDdDyQJXP"
   },
   "outputs": [],
   "source": [
    "converter.target_spec.supported_ops = [tf.lite.OpsSet.TFLITE_BUILTINS]\n",
    "converter.target_spec.supported_types = [tf.float16]\n",
    "converter.allow_custom_ops = True"
   ]
  },
  {
   "cell_type": "code",
   "execution_count": null,
   "metadata": {
    "colab": {
     "base_uri": "https://localhost:8080/"
    },
    "id": "vFb5NFEIyHbJ",
    "outputId": "ff8cc5bb-3103-4a22-c2f9-55c5b4b17cfc"
   },
   "outputs": [],
   "source": [
    "import numpy as np\n",
    "import tensorflow as tf\n",
    "\n",
    "# Load the TFLite model\n",
    "interpreter = tf.lite.Interpreter(model_path=\"resnet50.tflite\")\n",
    "interpreter.allocate_tensors()\n",
    "\n",
    "# Get input and output tensors\n",
    "input_details = interpreter.get_input_details()\n",
    "output_details = interpreter.get_output_details()\n",
    "\n",
    "# Prepare input data (replace this with your actual input data)\n",
    "#input_data = images.detach().numpy()#.transpose((0,1,2,3))\n",
    "\n",
    "# Set input tensor\n",
    "interpreter.set_tensor(input_details[0]['index'], images)\n",
    "\n",
    "# Run inference\n",
    "interpreter.invoke()\n",
    "\n",
    "# Get output tensor\n",
    "output_data = interpreter.get_tensor(output_details[0]['index'])\n",
    "\n",
    "# Print the output\n",
    "print(output_data)\n",
    "idx = np.argmax(output_data)\n",
    "print(idx)"
   ]
  }
 ],
 "metadata": {
  "colab": {
   "provenance": []
  },
  "kernelspec": {
   "display_name": "Python 3",
   "language": "python",
   "name": "python3"
  },
  "language_info": {
   "codemirror_mode": {
    "name": "ipython",
    "version": 3
   },
   "file_extension": ".py",
   "mimetype": "text/x-python",
   "name": "python",
   "nbconvert_exporter": "python",
   "pygments_lexer": "ipython3",
   "version": "3.6.13"
  }
 },
 "nbformat": 4,
 "nbformat_minor": 1
}
