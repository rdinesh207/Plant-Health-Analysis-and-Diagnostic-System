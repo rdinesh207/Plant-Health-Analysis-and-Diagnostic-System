{
 "cells": [
  {
   "cell_type": "code",
   "execution_count": null,
   "metadata": {
    "colab": {
     "base_uri": "https://localhost:8080/"
    },
    "id": "haYLPLT-VJjN",
    "outputId": "f938a053-df5e-409b-c10e-9ccb427d258a"
   },
   "outputs": [],
   "source": [
    "import numpy as np\n",
    "import torch\n",
    "import torchvision.models as models\n",
    "import torch.nn as nn\n",
    "from PIL import Image\n",
    "import tensorflow as tf\n",
    "import os\n",
    "from time import sleep\n",
    "import requests\n",
    "import json"
   ]
  },
  {
   "cell_type": "code",
   "execution_count": null,
   "metadata": {
    "id": "GwwbAUSfmlGG"
   },
   "outputs": [],
   "source": [
    "def get_info(prompt):\n",
    "  url = \"https://generativelanguage.googleapis.com/v1beta/models/gemini-pro:generateContent?key=Public API Key\"\n",
    "\n",
    "  headers = {\n",
    "      'Content-Type': 'application/json'\n",
    "  }\n",
    "\n",
    "  data = {\n",
    "      \"contents\": [\n",
    "          {\n",
    "              \"parts\": [\n",
    "                  {\n",
    "                      \"text\": prompt,\n",
    "                  }\n",
    "              ]\n",
    "          }\n",
    "      ]\n",
    "  }\n",
    "\n",
    "  response = requests.post(url, headers=headers, data=json.dumps(data))\n",
    "  text = response.json()['candidates'][0]['content']['parts'][0]['text'].replace(\"**\",\"\")\n",
    "  print(text)"
   ]
  },
  {
   "cell_type": "code",
   "execution_count": null,
   "metadata": {
    "id": "E3zEcxIwmlM9"
   },
   "outputs": [],
   "source": [
    "def image_transform(image_path):\n",
    "    image = Image.open(image_path).convert('RGB')  # Assuming RGB images\n",
    "    image = image.resize((224, 224))  # Resize to specific dimension (adjust as needed)\n",
    "    image = torch.from_numpy(np.array(image) / 255.0).permute(2, 0, 1).float().reshape(1,3,224,224)  # Convert to tensor and normalize\n",
    "    return image"
   ]
  },
  {
   "cell_type": "code",
   "execution_count": null,
   "metadata": {
    "id": "8VWXFQoimlWD"
   },
   "outputs": [],
   "source": [
    "plant_disease_list = [\n",
    "  {\"Plant Name\": \"cassava\", \"Disease/Problem\": \"Curled leaf symptom\"},\n",
    "  {\"Plant Name\": \"cassava\", \"Disease/Problem\": \"Healthy Leaf\"},\n",
    "  {\"Plant Name\": \"cassava\", \"Disease/Problem\": \"Cassava mosaic disease (CMD)\"},\n",
    "  {\"Plant Name\": \"maize\", \"Disease/Problem\": \"Fall armyworm (FAW)\"},\n",
    "  {\"Plant Name\": \"cassava\", \"Disease/Problem\": \"Young healthy leaf\"},\n",
    "  {\"Plant Name\": \"cassava\", \"Disease/Problem\": \"Old plant\"},\n",
    "  {\"Plant Name\": \"cassava\", \"Disease/Problem\": \"Nutritional deficiency\"},\n",
    "  {\"Plant Name\": \"cassava\", \"Disease/Problem\": \"Bacterial leaf streak (BLS)\"},\n",
    "  {\"Plant Name\": \"cassava\", \"Disease/Problem\": \"Sooty mold\"},\n",
    "  {\"Plant Name\": \"cassava\", \"Disease/Problem\": \"Brown streak disease (BSD)\"},\n",
    "  {\"Plant Name\": \"cassava\", \"Disease/Problem\": \"Young cassava mosaic disease (YCMD)\"},\n",
    "  {\"Plant Name\": \"cassava\", \"Disease/Problem\": \"Cassava green mottle disease (CGM)\"},\n",
    "  {\"Plant Name\": \"cassava\", \"Disease/Problem\": \"Cassava root rot disease (CRM)\"}\n",
    "]"
   ]
  },
  {
   "cell_type": "code",
   "execution_count": null,
   "metadata": {
    "id": "ZoHrazw4mld3"
   },
   "outputs": [],
   "source": [
    "prompts = [\n",
    "  \"Explain cassava curled leaf symptom in detail and how to control it.\",\n",
    "  \"Cassava healthy leaf is a good sign, but are there any preventive measures to avoid future diseases?\",\n",
    "  \"How to identify and control cassava mosaic disease (CMD)?\",\n",
    "  \"Explain the damage caused by fall armyworm (FAW) on maize and how to manage it.\",\n",
    "  \"What differentiates a young healthy cassava leaf from a diseased one?\",\n",
    "  \"What happens to a cassava plant as it gets old? Are there specific diseases more common at this stage?\",\n",
    "  \"How to diagnose and address nutritional deficiencies in cassava plants?\",\n",
    "  \"Explain the causes and control methods for bacterial leaf streak (BLS) on cassava.\",\n",
    "  \"What is sooty mold on cassava and how to get rid of it?\",\n",
    "  \"What are the management strategies for cassava brown streak disease (BSD)?\",\n",
    "  \"How to differentiate between young cassava mosaic disease (YCMD) and regular cassava mosaic disease?\",\n",
    "  \"What are the effects of cassava green mottle disease (CGM) and how to control it?\",\n",
    "  \"Explain cassava root rot disease (CRM) and how to prevent it.\"\n",
    "]"
   ]
  },
  {
   "cell_type": "code",
   "execution_count": null,
   "metadata": {
    "id": "LA1IWCjgmlyq"
   },
   "outputs": [],
   "source": [
    "# Load the TFLite model\n",
    "interpreter = tf.lite.Interpreter(model_path=\"resnet50.tflite\")\n",
    "interpreter.allocate_tensors()\n",
    "\n",
    "# Get input and output tensors\n",
    "input_details = interpreter.get_input_details()\n",
    "output_details = interpreter.get_output_details()"
   ]
  },
  {
   "cell_type": "code",
   "execution_count": null,
   "metadata": {
    "id": "5wpDFcSdmmJS"
   },
   "outputs": [],
   "source": [
    "# Prepare input data (replace this with your actual input data)\n",
    "#input_data = images.detach().numpy()#.transpose((0,1,2,3))\n",
    "image_dir = \"/content/samples/\"\n",
    "image_paths = [image_dir+item for item in os.listdir(image_dir)]\n",
    "for image_path in image_paths:\n",
    "\n",
    "  print(image_path)\n",
    "  images = image_transform(image_path)\n",
    "  # Set input tensor\n",
    "  interpreter.set_tensor(input_details[0]['index'], images)\n",
    "  # Run inference\n",
    "  interpreter.invoke()\n",
    "  # Get output tensor\n",
    "  output_data = interpreter.get_tensor(output_details[0]['index'])\n",
    "\n",
    "  # Print the output\n",
    "  idx = np.argmax(output_data)\n",
    "  print(idx)\n",
    "  print(plant_disease_list[idx])\n",
    "  get_info(prompts[idx])\n",
    "  print(\"\\n\\n\")\n",
    "\n",
    "  sleep(2)"
   ]
  }
 ],
 "metadata": {
  "colab": {
   "provenance": []
  },
  "kernelspec": {
   "display_name": "Python 3",
   "language": "python",
   "name": "python3"
  },
  "language_info": {
   "codemirror_mode": {
    "name": "ipython",
    "version": 3
   },
   "file_extension": ".py",
   "mimetype": "text/x-python",
   "name": "python",
   "nbconvert_exporter": "python",
   "pygments_lexer": "ipython3",
   "version": "3.6.13"
  }
 },
 "nbformat": 4,
 "nbformat_minor": 1
}
